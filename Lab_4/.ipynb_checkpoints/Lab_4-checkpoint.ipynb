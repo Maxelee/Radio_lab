{
 "cells": [
  {
   "cell_type": "code",
   "execution_count": 57,
   "metadata": {
    "ExecuteTime": {
     "end_time": "2020-04-11T20:41:01.555695Z",
     "start_time": "2020-04-11T20:41:01.551701Z"
    }
   },
   "outputs": [],
   "source": [
    "from astropy import units as u\n",
    "from astropy.coordinates import SkyCoord\n",
    "from astropy.coordinates import AltAz\n",
    "import numpy as np\n",
    "from astropy.coordinates import EarthLocation\n",
    "from astropy.time import Time"
   ]
  },
  {
   "cell_type": "code",
   "execution_count": 48,
   "metadata": {
    "ExecuteTime": {
     "end_time": "2020-04-11T20:38:43.955172Z",
     "start_time": "2020-04-11T20:38:43.951136Z"
    }
   },
   "outputs": [],
   "source": [
    "ls = np.arange(0, 360, 2)\n",
    "bs = np.arange(-20, 20, 4)"
   ]
  },
  {
   "cell_type": "code",
   "execution_count": null,
   "metadata": {},
   "outputs": [],
   "source": []
  },
  {
   "cell_type": "code",
   "execution_count": 67,
   "metadata": {
    "ExecuteTime": {
     "end_time": "2020-04-11T20:49:36.502910Z",
     "start_time": "2020-04-11T20:49:36.497625Z"
    }
   },
   "outputs": [],
   "source": [
    "Leusch = EarthLocation(lat=37.91934, lon=122.15385, height=304*u.m)\n",
    "observing_time = np.linspace(2458949, 2458950, 1000)\n",
    "observing_time = Time(observing_time, format='jd')"
   ]
  },
  {
   "cell_type": "code",
   "execution_count": 69,
   "metadata": {
    "ExecuteTime": {
     "end_time": "2020-04-11T20:50:32.068301Z",
     "start_time": "2020-04-11T20:50:32.064581Z"
    }
   },
   "outputs": [],
   "source": [
    "aa = AltAz(location=Leusch, obstime=observing_time)"
   ]
  },
  {
   "cell_type": "code",
   "execution_count": 70,
   "metadata": {
    "ExecuteTime": {
     "end_time": "2020-04-11T20:51:12.528661Z",
     "start_time": "2020-04-11T20:51:12.524208Z"
    }
   },
   "outputs": [],
   "source": [
    "a = SkyCoord(l*u.deg, b*u.deg, frame='galactic')"
   ]
  },
  {
   "cell_type": "code",
   "execution_count": 72,
   "metadata": {
    "ExecuteTime": {
     "end_time": "2020-04-11T20:51:52.083288Z",
     "start_time": "2020-04-11T20:51:51.947068Z"
    }
   },
   "outputs": [],
   "source": [
    "b = a.transform_to(aa)\n"
   ]
  },
  {
   "cell_type": "code",
   "execution_count": 81,
   "metadata": {
    "ExecuteTime": {
     "end_time": "2020-04-11T20:54:08.544951Z",
     "start_time": "2020-04-11T20:54:08.532179Z"
    }
   },
   "outputs": [
    {
     "data": {
      "text/plain": [
       "array([-1.13181364e+00, -1.12690385e+00, -1.12199581e+00, -1.11708956e+00,\n",
       "       -1.11218511e+00, -1.10728249e+00, -1.10238172e+00, -1.09748283e+00,\n",
       "       -1.09258583e+00, -1.08769074e+00, -1.08279760e+00, -1.07790643e+00,\n",
       "       -1.07301724e+00, -1.06813006e+00, -1.06324492e+00, -1.05836183e+00,\n",
       "       -1.05348083e+00, -1.04860193e+00, -1.04372517e+00, -1.03885055e+00,\n",
       "       -1.03397811e+00, -1.02910788e+00, -1.02423987e+00, -1.01937410e+00,\n",
       "       -1.01451061e+00, -1.00964942e+00, -1.00479056e+00, -9.99934037e-01,\n",
       "       -9.95079890e-01, -9.90228141e-01, -9.85378814e-01, -9.80531932e-01,\n",
       "       -9.75687525e-01, -9.70845616e-01, -9.66006228e-01, -9.61169392e-01,\n",
       "       -9.56335130e-01, -9.51503469e-01, -9.46674433e-01, -9.41848051e-01,\n",
       "       -9.37024348e-01, -9.32203348e-01, -9.27385083e-01, -9.22569575e-01,\n",
       "       -9.17756853e-01, -9.12946940e-01, -9.08139868e-01, -9.03335663e-01,\n",
       "       -8.98534349e-01, -8.93735957e-01, -8.88940514e-01, -8.84148047e-01,\n",
       "       -8.79358582e-01, -8.74572151e-01, -8.69788780e-01, -8.65008497e-01,\n",
       "       -8.60231329e-01, -8.55457308e-01, -8.50686461e-01, -8.45918815e-01,\n",
       "       -8.41154403e-01, -8.36393253e-01, -8.31635393e-01, -8.26880851e-01,\n",
       "       -8.22129661e-01, -8.17381851e-01, -8.12637448e-01, -8.07896487e-01,\n",
       "       -8.03158997e-01, -7.98425007e-01, -7.93694547e-01, -7.88967651e-01,\n",
       "       -7.84244349e-01, -7.79524669e-01, -7.74808647e-01, -7.70096313e-01,\n",
       "       -7.65387699e-01, -7.60682833e-01, -7.55981754e-01, -7.51284490e-01,\n",
       "       -7.46591072e-01, -7.41901538e-01, -7.37215917e-01, -7.32534244e-01,\n",
       "       -7.27856548e-01, -7.23182869e-01, -7.18513237e-01, -7.13847687e-01,\n",
       "       -7.09186249e-01, -7.04528964e-01, -6.99875863e-01, -6.95226979e-01,\n",
       "       -6.90582351e-01, -6.85942011e-01, -6.81305997e-01, -6.76674339e-01,\n",
       "       -6.72047080e-01, -6.67424252e-01, -6.62805891e-01, -6.58192035e-01,\n",
       "       -6.53582721e-01, -6.48977984e-01, -6.44377860e-01, -6.39782391e-01,\n",
       "       -6.35191612e-01, -6.30605558e-01, -6.26024272e-01, -6.21447790e-01,\n",
       "       -6.16876151e-01, -6.12309391e-01, -6.07747553e-01, -6.03190675e-01,\n",
       "       -5.98638794e-01, -5.94091954e-01, -5.89550193e-01, -5.85013551e-01,\n",
       "       -5.80482066e-01, -5.75955784e-01, -5.71434744e-01, -5.66918986e-01,\n",
       "       -5.62408550e-01, -5.57903483e-01, -5.53403824e-01, -5.48909613e-01,\n",
       "       -5.44420898e-01, -5.39937719e-01, -5.35460119e-01, -5.30988139e-01,\n",
       "       -5.26521829e-01, -5.22061228e-01, -5.17606381e-01, -5.13157335e-01,\n",
       "       -5.08714133e-01, -5.04276821e-01, -4.99845441e-01, -4.95420044e-01,\n",
       "       -4.91000674e-01, -4.86587375e-01, -4.82180198e-01, -4.77779188e-01,\n",
       "       -4.73384391e-01, -4.68995854e-01, -4.64613628e-01, -4.60237760e-01,\n",
       "       -4.55868295e-01, -4.51505288e-01, -4.47148785e-01, -4.42798835e-01,\n",
       "       -4.38455486e-01, -4.34118792e-01, -4.29788802e-01, -4.25465567e-01,\n",
       "       -4.21149135e-01, -4.16839562e-01, -4.12536898e-01, -4.08241193e-01,\n",
       "       -4.03952502e-01, -3.99670878e-01, -3.95396373e-01, -3.91129038e-01,\n",
       "       -3.86868931e-01, -3.82616105e-01, -3.78370611e-01, -3.74132509e-01,\n",
       "       -3.69901852e-01, -3.65678696e-01, -3.61463094e-01, -3.57255106e-01,\n",
       "       -3.53054788e-01, -3.48862193e-01, -3.44677385e-01, -3.40500417e-01,\n",
       "       -3.36331349e-01, -3.32170237e-01, -3.28017143e-01, -3.23872125e-01,\n",
       "       -3.19735241e-01, -3.15606554e-01, -3.11486122e-01, -3.07374007e-01,\n",
       "       -3.03270268e-01, -2.99174970e-01, -2.95088172e-01, -2.91009938e-01,\n",
       "       -2.86940327e-01, -2.82879408e-01, -2.78827240e-01, -2.74783887e-01,\n",
       "       -2.70749416e-01, -2.66723890e-01, -2.62707374e-01, -2.58699932e-01,\n",
       "       -2.54701632e-01, -2.50712540e-01, -2.46732721e-01, -2.42762244e-01,\n",
       "       -2.38801176e-01, -2.34849584e-01, -2.30907535e-01, -2.26975102e-01,\n",
       "       -2.23052351e-01, -2.19139349e-01, -2.15236172e-01, -2.11342886e-01,\n",
       "       -2.07459564e-01, -2.03586273e-01, -1.99723090e-01, -1.95870084e-01,\n",
       "       -1.92027327e-01, -1.88194894e-01, -1.84372857e-01, -1.80561289e-01,\n",
       "       -1.76760264e-01, -1.72969858e-01, -1.69190145e-01, -1.65421201e-01,\n",
       "       -1.61663098e-01, -1.57915918e-01, -1.54179735e-01, -1.50454623e-01,\n",
       "       -1.46740665e-01, -1.43037935e-01, -1.39346513e-01, -1.35666475e-01,\n",
       "       -1.31997904e-01, -1.28340877e-01, -1.24695473e-01, -1.21061775e-01,\n",
       "       -1.17439863e-01, -1.13829817e-01, -1.10231718e-01, -1.06645651e-01,\n",
       "       -1.03071696e-01, -9.95099345e-02, -9.59604535e-02, -9.24233345e-02,\n",
       "       -8.88986616e-02, -8.53865176e-02, -8.18869905e-02, -7.84001638e-02,\n",
       "       -7.49261216e-02, -7.14649531e-02, -6.80167430e-02, -6.45815780e-02,\n",
       "       -6.11595438e-02, -5.77507309e-02, -5.43552258e-02, -5.09731167e-02,\n",
       "       -4.76044907e-02, -4.42494399e-02, -4.09080521e-02, -3.75804155e-02,\n",
       "       -3.42666234e-02, -3.09667646e-02, -2.76809299e-02, -2.44092090e-02,\n",
       "       -2.11516964e-02, -1.79084823e-02, -1.46796575e-02, -1.14653175e-02,\n",
       "       -8.26555342e-03, -5.08045853e-03, -1.91012477e-03,  1.24535119e-03,\n",
       "        4.38587678e-03,  7.51135911e-03,  1.06217007e-02,  1.37168080e-02,\n",
       "        1.67965859e-02,  1.98609403e-02,  2.29097728e-02,  2.59429887e-02,\n",
       "        2.89604932e-02,  3.19621871e-02,  3.49479750e-02,  3.79177601e-02,\n",
       "        4.08714466e-02,  4.38089344e-02,  4.67301273e-02,  4.96349275e-02,\n",
       "        5.25232385e-02,  5.53949594e-02,  5.82499934e-02,  6.10882433e-02,\n",
       "        6.39096079e-02,  6.67139897e-02,  6.95012900e-02,  7.22714110e-02,\n",
       "        7.50242510e-02,  7.77597122e-02,  8.04776965e-02,  8.31781021e-02,\n",
       "        8.58608308e-02,  8.85257832e-02,  9.11728608e-02,  9.38019617e-02,\n",
       "        9.64129876e-02,  9.90058400e-02,  1.01580417e-01,  1.04136620e-01,\n",
       "        1.06674350e-01,  1.09193508e-01,  1.11693992e-01,  1.14175705e-01,\n",
       "        1.16638548e-01,  1.19082420e-01,  1.21507222e-01,  1.23912855e-01,\n",
       "        1.26299223e-01,  1.28666223e-01,  1.31013759e-01,  1.33341732e-01,\n",
       "        1.35650045e-01,  1.37938598e-01,  1.40207294e-01,  1.42456037e-01,\n",
       "        1.44684727e-01,  1.46893268e-01,  1.49081564e-01,  1.51249519e-01,\n",
       "        1.53397036e-01,  1.55524018e-01,  1.57630373e-01,  1.59716003e-01,\n",
       "        1.61780813e-01,  1.63824711e-01,  1.65847603e-01,  1.67849393e-01,\n",
       "        1.69829990e-01,  1.71789302e-01,  1.73727235e-01,  1.75643699e-01,\n",
       "        1.77538602e-01,  1.79411856e-01,  1.81263367e-01,  1.83093048e-01,\n",
       "        1.84900811e-01,  1.86686566e-01,  1.88450227e-01,  1.90191706e-01,\n",
       "        1.91910917e-01,  1.93607775e-01,  1.95282194e-01,  1.96934091e-01,\n",
       "        1.98563383e-01,  2.00169986e-01,  2.01753818e-01,  2.03314800e-01,\n",
       "        2.04852849e-01,  2.06367887e-01,  2.07859836e-01,  2.09328617e-01,\n",
       "        2.10774153e-01,  2.12196369e-01,  2.13595189e-01,  2.14970540e-01,\n",
       "        2.16322347e-01,  2.17650539e-01,  2.18955046e-01,  2.20235795e-01,\n",
       "        2.21492718e-01,  2.22725747e-01,  2.23934815e-01,  2.25119855e-01,\n",
       "        2.26280803e-01,  2.27417595e-01,  2.28530167e-01,  2.29618459e-01,\n",
       "        2.30682410e-01,  2.31721960e-01,  2.32737051e-01,  2.33727626e-01,\n",
       "        2.34693631e-01,  2.35635009e-01,  2.36551708e-01,  2.37443675e-01,\n",
       "        2.38310861e-01,  2.39153214e-01,  2.39970688e-01,  2.40763236e-01,\n",
       "        2.41530811e-01,  2.42273370e-01,  2.42990869e-01,  2.43683268e-01,\n",
       "        2.44350526e-01,  2.44992603e-01,  2.45609464e-01,  2.46201071e-01,\n",
       "        2.46767391e-01,  2.47308390e-01,  2.47824036e-01,  2.48314299e-01,\n",
       "        2.48779150e-01,  2.49218562e-01,  2.49632509e-01,  2.50020967e-01,\n",
       "        2.50383912e-01,  2.50721323e-01,  2.51033180e-01,  2.51319464e-01,\n",
       "        2.51580159e-01,  2.51815249e-01,  2.52024720e-01,  2.52208559e-01,\n",
       "        2.52366756e-01,  2.52499301e-01,  2.52606187e-01,  2.52687406e-01,\n",
       "        2.52742954e-01,  2.52772828e-01,  2.52777026e-01,  2.52755548e-01,\n",
       "        2.52708395e-01,  2.52635569e-01,  2.52537076e-01,  2.52412920e-01,\n",
       "        2.52263111e-01,  2.52087655e-01,  2.51886564e-01,  2.51659850e-01,\n",
       "        2.51407526e-01,  2.51129607e-01,  2.50826110e-01,  2.50497053e-01,\n",
       "        2.50142455e-01,  2.49762338e-01,  2.49356723e-01,  2.48925635e-01,\n",
       "        2.48469099e-01,  2.47987142e-01,  2.47479792e-01,  2.46947080e-01,\n",
       "        2.46389036e-01,  2.45805694e-01,  2.45197087e-01,  2.44563251e-01,\n",
       "        2.43904222e-01,  2.43220040e-01,  2.42510743e-01,  2.41776374e-01,\n",
       "        2.41016973e-01,  2.40232586e-01,  2.39423258e-01,  2.38589033e-01,\n",
       "        2.37729962e-01,  2.36846092e-01,  2.35937474e-01,  2.35004159e-01,\n",
       "        2.34046201e-01,  2.33063654e-01,  2.32056572e-01,  2.31025012e-01,\n",
       "        2.29969034e-01,  2.28888694e-01,  2.27784053e-01,  2.26655173e-01,\n",
       "        2.25502116e-01,  2.24324945e-01,  2.23123726e-01,  2.21898524e-01,\n",
       "        2.20649406e-01,  2.19376438e-01,  2.18079692e-01,  2.16759236e-01,\n",
       "        2.15415141e-01,  2.14047479e-01,  2.12656324e-01,  2.11241749e-01,\n",
       "        2.09803828e-01,  2.08342638e-01,  2.06858256e-01,  2.05350758e-01,\n",
       "        2.03820222e-01,  2.02266729e-01,  2.00690358e-01,  1.99091189e-01,\n",
       "        1.97469306e-01,  1.95824790e-01,  1.94157724e-01,  1.92468192e-01,\n",
       "        1.90756279e-01,  1.89022070e-01,  1.87265650e-01,  1.85487108e-01,\n",
       "        1.83686530e-01,  1.81864004e-01,  1.80019618e-01,  1.78153462e-01,\n",
       "        1.76265626e-01,  1.74356199e-01,  1.72425273e-01,  1.70472940e-01,\n",
       "        1.68499290e-01,  1.66504416e-01,  1.64488412e-01,  1.62451370e-01,\n",
       "        1.60393383e-01,  1.58314548e-01,  1.56214957e-01,  1.54094706e-01,\n",
       "        1.51953889e-01,  1.49792604e-01,  1.47610946e-01,  1.45409010e-01,\n",
       "        1.43186894e-01,  1.40944695e-01,  1.38682509e-01,  1.36400434e-01,\n",
       "        1.34098568e-01,  1.31777010e-01,  1.29435856e-01,  1.27075205e-01,\n",
       "        1.24695156e-01,  1.22295807e-01,  1.19877257e-01,  1.17439606e-01,\n",
       "        1.14982952e-01,  1.12507395e-01,  1.10013032e-01,  1.07499965e-01,\n",
       "        1.04968293e-01,  1.02418114e-01,  9.98495297e-02,  9.72626383e-02,\n",
       "        9.46575397e-02,  9.20343321e-02,  8.93931177e-02,  8.67339947e-02,\n",
       "        8.40570615e-02,  8.13624201e-02,  7.86501686e-02,  7.59204064e-02,\n",
       "        7.31732316e-02,  7.04087459e-02,  6.76270472e-02,  6.48282345e-02,\n",
       "        6.20124054e-02,  5.91796613e-02,  5.63300995e-02,  5.34638172e-02,\n",
       "        5.05809153e-02,  4.76814907e-02,  4.47656413e-02,  4.18334638e-02,\n",
       "        3.88850583e-02,  3.59205209e-02,  3.29399475e-02,  2.99434378e-02,\n",
       "        2.69310872e-02,  2.39029923e-02,  2.08592479e-02,  1.77999530e-02,\n",
       "        1.47252018e-02,  1.16350885e-02,  8.52971130e-03,  5.40916368e-03,\n",
       "        2.27354039e-03, -8.77065612e-04, -4.04255726e-03, -7.22284217e-03,\n",
       "       -1.04178283e-02, -1.36274195e-02, -1.68515242e-02, -2.00900500e-02,\n",
       "       -2.33429060e-02, -2.66099973e-02, -2.98912339e-02, -3.31865244e-02,\n",
       "       -3.64957794e-02, -3.98189054e-02, -4.31558136e-02, -4.65064158e-02,\n",
       "       -4.98706194e-02, -5.32483367e-02, -5.66394790e-02, -6.00439595e-02,\n",
       "       -6.34616869e-02, -6.68925754e-02, -7.03365390e-02, -7.37934879e-02,\n",
       "       -7.72633371e-02, -8.07460004e-02, -8.42413939e-02, -8.77494288e-02,\n",
       "       -9.12700220e-02, -9.48030905e-02, -9.83485470e-02, -1.01906309e-01,\n",
       "       -1.05476294e-01, -1.09058420e-01, -1.12652602e-01, -1.16258758e-01,\n",
       "       -1.19876809e-01, -1.23506671e-01, -1.27148264e-01, -1.30801507e-01,\n",
       "       -1.34466323e-01, -1.38142628e-01, -1.41830345e-01, -1.45529395e-01,\n",
       "       -1.49239701e-01, -1.52961182e-01, -1.56693762e-01, -1.60437366e-01,\n",
       "       -1.64191913e-01, -1.67957329e-01, -1.71733539e-01, -1.75520467e-01,\n",
       "       -1.79318037e-01, -1.83126175e-01, -1.86944808e-01, -1.90773859e-01,\n",
       "       -1.94613257e-01, -1.98462928e-01, -2.02322803e-01, -2.06192805e-01,\n",
       "       -2.10072864e-01, -2.13962911e-01, -2.17862872e-01, -2.21772677e-01,\n",
       "       -2.25692257e-01, -2.29621544e-01, -2.33560465e-01, -2.37508953e-01,\n",
       "       -2.41466942e-01, -2.45434360e-01, -2.49411141e-01, -2.53397217e-01,\n",
       "       -2.57392525e-01, -2.61396994e-01, -2.65410560e-01, -2.69433157e-01,\n",
       "       -2.73464723e-01, -2.77505187e-01, -2.81554489e-01, -2.85612566e-01,\n",
       "       -2.89679351e-01, -2.93754782e-01, -2.97838797e-01, -3.01931335e-01,\n",
       "       -3.06032330e-01, -3.10141723e-01, -3.14259454e-01, -3.18385459e-01,\n",
       "       -3.22519679e-01, -3.26662053e-01, -3.30812526e-01, -3.34971032e-01,\n",
       "       -3.39137515e-01, -3.43311918e-01, -3.47494180e-01, -3.51684244e-01,\n",
       "       -3.55882053e-01, -3.60087552e-01, -3.64300680e-01, -3.68521383e-01,\n",
       "       -3.72749606e-01, -3.76985290e-01, -3.81228382e-01, -3.85478827e-01,\n",
       "       -3.89736572e-01, -3.94001559e-01, -3.98273735e-01, -4.02553049e-01,\n",
       "       -4.06839447e-01, -4.11132874e-01, -4.15433279e-01, -4.19740611e-01,\n",
       "       -4.24054816e-01, -4.28375842e-01, -4.32703640e-01, -4.37038160e-01,\n",
       "       -4.41379348e-01, -4.45727155e-01, -4.50081534e-01, -4.54442431e-01,\n",
       "       -4.58809799e-01, -4.63183589e-01, -4.67563754e-01, -4.71950243e-01,\n",
       "       -4.76343008e-01, -4.80742005e-01, -4.85147182e-01, -4.89558494e-01,\n",
       "       -4.93975894e-01, -4.98399339e-01, -5.02828776e-01, -5.07264164e-01,\n",
       "       -5.11705458e-01, -5.16152609e-01, -5.20605574e-01, -5.25064308e-01,\n",
       "       -5.29528770e-01, -5.33998910e-01, -5.38474687e-01, -5.42956058e-01,\n",
       "       -5.47442981e-01, -5.51935409e-01, -5.56433301e-01, -5.60936618e-01,\n",
       "       -5.65445312e-01, -5.69959344e-01, -5.74478673e-01, -5.79003259e-01,\n",
       "       -5.83533056e-01, -5.88068026e-01, -5.92608131e-01, -5.97153325e-01,\n",
       "       -6.01703572e-01, -6.06258831e-01, -6.10819064e-01, -6.15384228e-01,\n",
       "       -6.19954286e-01, -6.24529202e-01, -6.29108932e-01, -6.33693440e-01,\n",
       "       -6.38282688e-01, -6.42876641e-01, -6.47475256e-01, -6.52078499e-01,\n",
       "       -6.56686333e-01, -6.61298718e-01, -6.65915620e-01, -6.70537001e-01,\n",
       "       -6.75162828e-01, -6.79793060e-01, -6.84427664e-01, -6.89066604e-01,\n",
       "       -6.93709846e-01, -6.98357351e-01, -7.03009087e-01, -7.07665021e-01,\n",
       "       -7.12325113e-01, -7.16989332e-01, -7.21657643e-01, -7.26330015e-01,\n",
       "       -7.31006410e-01, -7.35686796e-01, -7.40371142e-01, -7.45059411e-01,\n",
       "       -7.49751571e-01, -7.54447590e-01, -7.59147438e-01, -7.63851078e-01,\n",
       "       -7.68558479e-01, -7.73269613e-01, -7.77984442e-01, -7.82702938e-01,\n",
       "       -7.87425068e-01, -7.92150805e-01, -7.96880111e-01, -8.01612959e-01,\n",
       "       -8.06349320e-01, -8.11089159e-01, -8.15832448e-01, -8.20579157e-01,\n",
       "       -8.25329257e-01, -8.30082714e-01, -8.34839501e-01, -8.39599589e-01,\n",
       "       -8.44362949e-01, -8.49129549e-01, -8.53899361e-01, -8.58672358e-01,\n",
       "       -8.63448509e-01, -8.68227785e-01, -8.73010159e-01, -8.77795604e-01,\n",
       "       -8.82584088e-01, -8.87375585e-01, -8.92170069e-01, -8.96967509e-01,\n",
       "       -9.01767878e-01, -9.06571149e-01, -9.11377298e-01, -9.16186292e-01,\n",
       "       -9.20998107e-01, -9.25812717e-01, -9.30630093e-01, -9.35450209e-01,\n",
       "       -9.40273039e-01, -9.45098558e-01, -9.49926737e-01, -9.54757550e-01,\n",
       "       -9.59590975e-01, -9.64426981e-01, -9.69265544e-01, -9.74106639e-01,\n",
       "       -9.78950243e-01, -9.83796325e-01, -9.88644863e-01, -9.93495831e-01,\n",
       "       -9.98349207e-01, -1.00320496e+00, -1.00806307e+00, -1.01292351e+00,\n",
       "       -1.01778626e+00, -1.02265129e+00, -1.02751857e+00, -1.03238810e+00,\n",
       "       -1.03725982e+00, -1.04213374e+00, -1.04700981e+00, -1.05188802e+00,\n",
       "       -1.05676835e+00, -1.06165076e+00, -1.06653524e+00, -1.07142176e+00,\n",
       "       -1.07631030e+00, -1.08120084e+00, -1.08609335e+00, -1.09098780e+00,\n",
       "       -1.09588419e+00, -1.10078248e+00, -1.10568264e+00, -1.11058467e+00,\n",
       "       -1.11548853e+00, -1.12039420e+00, -1.12530166e+00, -1.13021088e+00,\n",
       "       -1.13512185e+00, -1.14003455e+00, -1.14494894e+00, -1.14986501e+00,\n",
       "       -1.15478273e+00, -1.15970209e+00, -1.16462306e+00, -1.16954562e+00,\n",
       "       -1.17446974e+00, -1.17939541e+00, -1.18432261e+00, -1.18925130e+00,\n",
       "       -1.19418147e+00, -1.19911311e+00, -1.20404618e+00, -1.20898066e+00,\n",
       "       -1.21391653e+00, -1.21885378e+00, -1.22379238e+00, -1.22873230e+00,\n",
       "       -1.23367353e+00, -1.23861605e+00, -1.24355983e+00, -1.24850486e+00,\n",
       "       -1.25345110e+00, -1.25839854e+00, -1.26334716e+00, -1.26829694e+00,\n",
       "       -1.27324785e+00, -1.27819988e+00, -1.28315299e+00, -1.28810718e+00,\n",
       "       -1.29306241e+00, -1.29801867e+00, -1.30297593e+00, -1.30793418e+00,\n",
       "       -1.31289338e+00, -1.31785353e+00, -1.32281458e+00, -1.32777653e+00,\n",
       "       -1.33273935e+00, -1.33770302e+00, -1.34266751e+00, -1.34763280e+00,\n",
       "       -1.35259886e+00, -1.35756567e+00, -1.36253322e+00, -1.36750146e+00,\n",
       "       -1.37247037e+00, -1.37743994e+00, -1.38241013e+00, -1.38738091e+00,\n",
       "       -1.39235225e+00, -1.39732413e+00, -1.40229652e+00, -1.40726937e+00,\n",
       "       -1.41224266e+00, -1.41721635e+00, -1.42219039e+00, -1.42716476e+00,\n",
       "       -1.43213941e+00, -1.43711427e+00, -1.44208931e+00, -1.44706447e+00,\n",
       "       -1.45203968e+00, -1.45701486e+00, -1.46198993e+00, -1.46696480e+00,\n",
       "       -1.47193937e+00, -1.47691348e+00, -1.48188700e+00, -1.48685973e+00,\n",
       "       -1.49183145e+00, -1.49680186e+00, -1.50177061e+00, -1.50673723e+00,\n",
       "       -1.51170108e+00, -1.51666133e+00, -1.52161680e+00, -1.52656581e+00,\n",
       "       -1.53150581e+00, -1.53643284e+00, -1.54134029e+00, -1.54621633e+00,\n",
       "       -1.55103762e+00, -1.55575129e+00, -1.56021247e+00, -1.56391134e+00,\n",
       "       -1.56509465e+00, -1.56259044e+00, -1.55847218e+00, -1.55388029e+00,\n",
       "       -1.54911367e+00, -1.54426639e+00, -1.53937581e+00, -1.53445947e+00,\n",
       "       -1.52952663e+00, -1.52458264e+00, -1.51963080e+00, -1.51467324e+00,\n",
       "       -1.50971143e+00, -1.50474638e+00, -1.49977885e+00, -1.49480938e+00,\n",
       "       -1.48983841e+00, -1.48486626e+00, -1.47989319e+00, -1.47491941e+00,\n",
       "       -1.46994510e+00, -1.46497040e+00, -1.45999543e+00, -1.45502031e+00,\n",
       "       -1.45004511e+00, -1.44506992e+00, -1.44009480e+00, -1.43511982e+00,\n",
       "       -1.43014504e+00, -1.42517050e+00, -1.42019626e+00, -1.41522235e+00,\n",
       "       -1.41024882e+00, -1.40527570e+00, -1.40030304e+00, -1.39533085e+00,\n",
       "       -1.39035919e+00, -1.38538807e+00, -1.38041752e+00, -1.37544758e+00,\n",
       "       -1.37047827e+00, -1.36550963e+00, -1.36054167e+00, -1.35557442e+00,\n",
       "       -1.35060790e+00, -1.34564215e+00, -1.34067718e+00, -1.33571302e+00,\n",
       "       -1.33074970e+00, -1.32578723e+00, -1.32082563e+00, -1.31586494e+00,\n",
       "       -1.31090518e+00, -1.30594636e+00, -1.30098850e+00, -1.29603164e+00,\n",
       "       -1.29107580e+00, -1.28612099e+00, -1.28116723e+00, -1.27621455e+00,\n",
       "       -1.27126297e+00, -1.26631252e+00, -1.26136320e+00, -1.25641506e+00,\n",
       "       -1.25146810e+00, -1.24652234e+00, -1.24157782e+00, -1.23663455e+00,\n",
       "       -1.23169254e+00, -1.22675184e+00, -1.22181245e+00, -1.21687439e+00,\n",
       "       -1.21193769e+00, -1.20700238e+00, -1.20206846e+00, -1.19713597e+00,\n",
       "       -1.19220493e+00, -1.18727535e+00, -1.18234726e+00, -1.17742067e+00,\n",
       "       -1.17249563e+00, -1.16757213e+00, -1.16265021e+00, -1.15772989e+00,\n",
       "       -1.15281119e+00, -1.14789413e+00, -1.14297873e+00, -1.13806502e+00,\n",
       "       -1.13315302e+00, -1.12824276e+00, -1.12333424e+00, -1.11842750e+00])"
      ]
     },
     "execution_count": 81,
     "metadata": {},
     "output_type": "execute_result"
    }
   ],
   "source": [
    "        coord=SkyCoord(l*u.deg, b*u.deg, frame='galactic')\n",
    "\n"
   ]
  },
  {
   "cell_type": "code",
   "execution_count": 83,
   "metadata": {
    "ExecuteTime": {
     "end_time": "2020-04-11T20:56:37.377340Z",
     "start_time": "2020-04-11T20:56:37.370113Z"
    }
   },
   "outputs": [],
   "source": [
    "grid = np.zeros((180, 10,  2))\n",
    "for i, l in enumerate(ls):\n",
    "    for j, b in enumerate(bs):\n",
    "        grid[i,j] = l, b"
   ]
  },
  {
   "cell_type": "code",
   "execution_count": 84,
   "metadata": {
    "ExecuteTime": {
     "end_time": "2020-04-11T20:56:47.398807Z",
     "start_time": "2020-04-11T20:56:47.050136Z"
    }
   },
   "outputs": [],
   "source": [
    "import matplotlib.pyplot as plt"
   ]
  },
  {
   "cell_type": "code",
   "execution_count": 91,
   "metadata": {
    "ExecuteTime": {
     "end_time": "2020-04-11T20:58:24.936612Z",
     "start_time": "2020-04-11T20:58:24.931792Z"
    }
   },
   "outputs": [
    {
     "name": "stdout",
     "output_type": "stream",
     "text": [
      "[[[  0. -20.]\n",
      "  [  0. -16.]\n",
      "  [  0. -12.]\n",
      "  ...\n",
      "  [  0.   8.]\n",
      "  [  0.  12.]\n",
      "  [  0.  16.]]\n",
      "\n",
      " [[  2. -20.]\n",
      "  [  2. -16.]\n",
      "  [  2. -12.]\n",
      "  ...\n",
      "  [  2.   8.]\n",
      "  [  2.  12.]\n",
      "  [  2.  16.]]\n",
      "\n",
      " [[  4. -20.]\n",
      "  [  4. -16.]\n",
      "  [  4. -12.]\n",
      "  ...\n",
      "  [  4.   8.]\n",
      "  [  4.  12.]\n",
      "  [  4.  16.]]\n",
      "\n",
      " ...\n",
      "\n",
      " [[354. -20.]\n",
      "  [354. -16.]\n",
      "  [354. -12.]\n",
      "  ...\n",
      "  [354.   8.]\n",
      "  [354.  12.]\n",
      "  [354.  16.]]\n",
      "\n",
      " [[356. -20.]\n",
      "  [356. -16.]\n",
      "  [356. -12.]\n",
      "  ...\n",
      "  [356.   8.]\n",
      "  [356.  12.]\n",
      "  [356.  16.]]\n",
      "\n",
      " [[358. -20.]\n",
      "  [358. -16.]\n",
      "  [358. -12.]\n",
      "  ...\n",
      "  [358.   8.]\n",
      "  [358.  12.]\n",
      "  [358.  16.]]]\n"
     ]
    }
   ],
   "source": [
    "print(grid)"
   ]
  },
  {
   "cell_type": "code",
   "execution_count": 89,
   "metadata": {
    "ExecuteTime": {
     "end_time": "2020-04-11T20:57:54.892027Z",
     "start_time": "2020-04-11T20:57:54.698465Z"
    }
   },
   "outputs": [
    {
     "data": {
      "text/plain": [
       "<matplotlib.colorbar.Colorbar at 0x12eda2e50>"
      ]
     },
     "execution_count": 89,
     "metadata": {},
     "output_type": "execute_result"
    },
    {
     "data": {
      "image/png": "[encoded data removed]",
      "text/plain": [
       "<Figure size 432x288 with 2 Axes>"
      ]
     },
     "metadata": {
      "needs_background": "light"
     },
     "output_type": "display_data"
    }
   ],
   "source": [
    "plt.figure()\n",
    "plt.imshow(grid[:,:,1], aspect='auto')\n",
    "plt.colorbar()"
   ]
  },
  {
   "cell_type": "code",
   "execution_count": null,
   "metadata": {},
   "outputs": [],
   "source": []
  }
 ],
 "metadata": {
  "kernelspec": {
   "display_name": "Python 3",
   "language": "python",
   "name": "python3"
  },
  "language_info": {
   "codemirror_mode": {
    "name": "ipython",
    "version": 3
   },
   "file_extension": ".py",
   "mimetype": "text/x-python",
   "name": "python",
   "nbconvert_exporter": "python",
   "pygments_lexer": "ipython3",
   "version": "3.7.6"
  }
 },
 "nbformat": 4,
 "nbformat_minor": 2
}
